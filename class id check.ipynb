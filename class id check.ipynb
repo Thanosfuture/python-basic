{
 "cells": [
  {
   "cell_type": "code",
   "execution_count": null,
   "id": "8a8115a9",
   "metadata": {},
   "outputs": [],
   "source": [
    "\n",
    "\n",
    "\n",
    "\n",
    "\n",
    "            \n",
    "            \n",
    "        \n",
    "   "
   ]
  },
  {
   "cell_type": "code",
   "execution_count": 7,
   "id": "204a6d30",
   "metadata": {},
   "outputs": [
    {
     "name": "stdout",
     "output_type": "stream",
     "text": [
      "Thomas 123456\n",
      "Thomas take a seat\n",
      "ruben 321123\n",
      "ruben take a seat\n"
     ]
    }
   ],
   "source": [
    "class employee:\n",
    "    def __init__(self,Idno,name):\n",
    "        self.id = Idno\n",
    "        self.name = name\n",
    "        \n",
    "    def check_list(self):\n",
    "        if self.id ==\"123\":\n",
    "            print(self.name,\"123456\")\n",
    "        elif self.id ==\"222\":\n",
    "            print(self.name,\"222888\")\n",
    "        elif self.id ==\"321\":\n",
    "            print(self.name,\"321123\")\n",
    "\n",
    "    def correct(self):\n",
    "        print(self.name,\"take a seat\")\n",
    "        \n",
    "shelby = employee(\"123\",\"Thomas\")\n",
    "shelby.check_list()\n",
    "shelby.correct()\n",
    "\n",
    "chel= employee(\"321\",\"ruben\")\n",
    "chel.check_list()\n",
    "chel.correct()"
   ]
  },
  {
   "cell_type": "code",
   "execution_count": null,
   "id": "ba67b933",
   "metadata": {},
   "outputs": [],
   "source": []
  },
  {
   "cell_type": "code",
   "execution_count": null,
   "id": "40869dab",
   "metadata": {},
   "outputs": [],
   "source": []
  }
 ],
 "metadata": {
  "kernelspec": {
   "display_name": "Python 3 (ipykernel)",
   "language": "python",
   "name": "python3"
  },
  "language_info": {
   "codemirror_mode": {
    "name": "ipython",
    "version": 3
   },
   "file_extension": ".py",
   "mimetype": "text/x-python",
   "name": "python",
   "nbconvert_exporter": "python",
   "pygments_lexer": "ipython3",
   "version": "3.9.2"
  }
 },
 "nbformat": 4,
 "nbformat_minor": 5
}
